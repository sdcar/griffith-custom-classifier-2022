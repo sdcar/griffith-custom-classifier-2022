version https://git-lfs.github.com/spec/v1
oid sha256:8ae67a80c7d20aca1c5e1124dab02522875eb91338d4a1ad6de58afe4b1c5072
size 170270680

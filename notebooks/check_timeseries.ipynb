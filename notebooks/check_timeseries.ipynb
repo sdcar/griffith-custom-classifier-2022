{
 "cells": [
  {
   "cell_type": "code",
   "execution_count": 5,
   "metadata": {},
   "outputs": [],
   "source": [
    "import numpy as np\n",
    "import pandas as pd\n",
    "import pyarrow as pa\n",
    "import pyarrow.parquet as pq\n",
    "import datetime"
   ]
  },
  {
   "cell_type": "code",
   "execution_count": 6,
   "metadata": {},
   "outputs": [],
   "source": [
    "dir_path='/u02/data/poc5/20211214_2nd_data_collection/parquet/'\n",
    "run_id='20211216145545'\n",
    "left_image_file=dir_path+'left_image_'+run_id+'.parquet'\n",
    "right_image_file=dir_path+'right_image_'+run_id+'.parquet'"
   ]
  },
  {
   "cell_type": "code",
   "execution_count": 23,
   "metadata": {},
   "outputs": [
    {
     "name": "stdout",
     "output_type": "stream",
     "text": [
      "/u02/data/poc5/20211214_2nd_data_collection/parquet/left_image_20211216145545.parquet\n",
      "/u02/data/poc5/20211214_2nd_data_collection/parquet/right_image_20211216145545.parquet\n"
     ]
    }
   ],
   "source": [
    "print(left_image_file)\n",
    "print(right_image_file)"
   ]
  },
  {
   "cell_type": "code",
   "execution_count": 8,
   "metadata": {},
   "outputs": [
    {
     "name": "stdout",
     "output_type": "stream",
     "text": [
      "<pyarrow._parquet.FileMetaData object at 0x7fbe067297c0>\n",
      "  created_by: parquet-cpp-arrow version 6.0.0-SNAPSHOT\n",
      "  num_columns: 10\n",
      "  num_rows: 3832\n",
      "  num_row_groups: 4\n",
      "  format_version: 2.6\n",
      "  serialized_size: 4047\n",
      "<pyarrow._parquet.ParquetSchema object at 0x7fbe0672ec80>\n",
      "required group field_id=-1 schema {\n",
      "  required int64 field_id=-1 timestamp (Timestamp(isAdjustedToUTC=true, timeUnit=nanoseconds, is_from_converted_type=false, force_set_converted_type=false));\n",
      "  optional group field_id=-1 header {\n",
      "    optional group field_id=-1 stamp {\n",
      "      optional int32 field_id=-1 sec;\n",
      "      optional int32 field_id=-1 nanosec (Int(bitWidth=32, isSigned=false));\n",
      "    }\n",
      "    optional binary field_id=-1 frame_id (String);\n",
      "  }\n",
      "  optional int32 field_id=-1 height (Int(bitWidth=32, isSigned=false));\n",
      "  optional int32 field_id=-1 width (Int(bitWidth=32, isSigned=false));\n",
      "  optional binary field_id=-1 encoding (String);\n",
      "  optional boolean field_id=-1 is_bigendian;\n",
      "  optional int32 field_id=-1 step (Int(bitWidth=32, isSigned=false));\n",
      "  optional binary field_id=-1 image_oid (String);\n",
      "}\n",
      "\n",
      "<pyarrow._parquet.FileMetaData object at 0x7fbe06729b80>\n",
      "  created_by: parquet-cpp-arrow version 6.0.0-SNAPSHOT\n",
      "  num_columns: 10\n",
      "  num_rows: 3845\n",
      "  num_row_groups: 4\n",
      "  format_version: 2.6\n",
      "  serialized_size: 4047\n",
      "<pyarrow._parquet.ParquetSchema object at 0x7fbe0672ec00>\n",
      "required group field_id=-1 schema {\n",
      "  required int64 field_id=-1 timestamp (Timestamp(isAdjustedToUTC=true, timeUnit=nanoseconds, is_from_converted_type=false, force_set_converted_type=false));\n",
      "  optional group field_id=-1 header {\n",
      "    optional group field_id=-1 stamp {\n",
      "      optional int32 field_id=-1 sec;\n",
      "      optional int32 field_id=-1 nanosec (Int(bitWidth=32, isSigned=false));\n",
      "    }\n",
      "    optional binary field_id=-1 frame_id (String);\n",
      "  }\n",
      "  optional int32 field_id=-1 height (Int(bitWidth=32, isSigned=false));\n",
      "  optional int32 field_id=-1 width (Int(bitWidth=32, isSigned=false));\n",
      "  optional binary field_id=-1 encoding (String);\n",
      "  optional boolean field_id=-1 is_bigendian;\n",
      "  optional int32 field_id=-1 step (Int(bitWidth=32, isSigned=false));\n",
      "  optional binary field_id=-1 image_oid (String);\n",
      "}\n",
      "\n"
     ]
    }
   ],
   "source": [
    "for file in [left_image_file, right_image_file]:\n",
    "    pq_file = pq.ParquetFile(file)\n",
    "    print(pq_file.metadata)\n",
    "    print(pq_file.schema)"
   ]
  },
  {
   "cell_type": "code",
   "execution_count": 9,
   "metadata": {
    "tags": []
   },
   "outputs": [
    {
     "data": {
      "text/plain": [
       "timestamp: timestamp[ns, tz=UTC] not null\n",
       "header: struct<stamp: struct<sec: int32, nanosec: uint32>, frame_id: string>\n",
       "  child 0, stamp: struct<sec: int32, nanosec: uint32>\n",
       "      child 0, sec: int32\n",
       "      child 1, nanosec: uint32\n",
       "  child 1, frame_id: string\n",
       "height: uint32\n",
       "width: uint32\n",
       "encoding: string\n",
       "is_bigendian: bool\n",
       "step: uint32\n",
       "image_oid: string"
      ]
     },
     "execution_count": 9,
     "metadata": {},
     "output_type": "execute_result"
    }
   ],
   "source": [
    "left_image_table = pq.read_table(left_image_file)\n",
    "left_image_table.schema"
   ]
  },
  {
   "cell_type": "code",
   "execution_count": 11,
   "metadata": {},
   "outputs": [
    {
     "data": {
      "text/html": [
       "<div>\n",
       "<style scoped>\n",
       "    .dataframe tbody tr th:only-of-type {\n",
       "        vertical-align: middle;\n",
       "    }\n",
       "\n",
       "    .dataframe tbody tr th {\n",
       "        vertical-align: top;\n",
       "    }\n",
       "\n",
       "    .dataframe thead th {\n",
       "        text-align: right;\n",
       "    }\n",
       "</style>\n",
       "<table border=\"1\" class=\"dataframe\">\n",
       "  <thead>\n",
       "    <tr style=\"text-align: right;\">\n",
       "      <th></th>\n",
       "      <th>timestamp</th>\n",
       "      <th>header.stamp.sec</th>\n",
       "      <th>header.stamp.nanosec</th>\n",
       "      <th>header.frame_id</th>\n",
       "      <th>height</th>\n",
       "      <th>width</th>\n",
       "      <th>encoding</th>\n",
       "      <th>is_bigendian</th>\n",
       "      <th>step</th>\n",
       "      <th>image_oid</th>\n",
       "    </tr>\n",
       "  </thead>\n",
       "  <tbody>\n",
       "    <tr>\n",
       "      <th>0</th>\n",
       "      <td>2021-12-14 05:00:00.797010176+00:00</td>\n",
       "      <td>1639458000</td>\n",
       "      <td>797010095</td>\n",
       "      <td>FDS20110009</td>\n",
       "      <td>1536</td>\n",
       "      <td>2048</td>\n",
       "      <td>bayer_rggb16</td>\n",
       "      <td>False</td>\n",
       "      <td>4096</td>\n",
       "      <td>3631623832346430326638313638616646445332</td>\n",
       "    </tr>\n",
       "    <tr>\n",
       "      <th>1</th>\n",
       "      <td>2021-12-14 05:00:00.830345472+00:00</td>\n",
       "      <td>1639458000</td>\n",
       "      <td>830345445</td>\n",
       "      <td>FDS20110009</td>\n",
       "      <td>1536</td>\n",
       "      <td>2048</td>\n",
       "      <td>bayer_rggb16</td>\n",
       "      <td>False</td>\n",
       "      <td>4096</td>\n",
       "      <td>3631623832346430333137653130653546445332</td>\n",
       "    </tr>\n",
       "    <tr>\n",
       "      <th>2</th>\n",
       "      <td>2021-12-14 05:00:00.863578368+00:00</td>\n",
       "      <td>1639458000</td>\n",
       "      <td>863578483</td>\n",
       "      <td>FDS20110009</td>\n",
       "      <td>1536</td>\n",
       "      <td>2048</td>\n",
       "      <td>bayer_rggb16</td>\n",
       "      <td>False</td>\n",
       "      <td>4096</td>\n",
       "      <td>3631623832346430333337393239373346445332</td>\n",
       "    </tr>\n",
       "    <tr>\n",
       "      <th>3</th>\n",
       "      <td>2021-12-14 05:00:00.897224960+00:00</td>\n",
       "      <td>1639458000</td>\n",
       "      <td>897224938</td>\n",
       "      <td>FDS20110009</td>\n",
       "      <td>1536</td>\n",
       "      <td>2048</td>\n",
       "      <td>bayer_rggb16</td>\n",
       "      <td>False</td>\n",
       "      <td>4096</td>\n",
       "      <td>3631623832346430333537613930656146445332</td>\n",
       "    </tr>\n",
       "    <tr>\n",
       "      <th>4</th>\n",
       "      <td>2021-12-14 05:00:00.963078912+00:00</td>\n",
       "      <td>1639458000</td>\n",
       "      <td>963078957</td>\n",
       "      <td>FDS20110009</td>\n",
       "      <td>1536</td>\n",
       "      <td>2048</td>\n",
       "      <td>bayer_rggb16</td>\n",
       "      <td>False</td>\n",
       "      <td>4096</td>\n",
       "      <td>3631623832346430333936373662326446445332</td>\n",
       "    </tr>\n",
       "  </tbody>\n",
       "</table>\n",
       "</div>"
      ],
      "text/plain": [
       "                            timestamp  header.stamp.sec  header.stamp.nanosec  \\\n",
       "0 2021-12-14 05:00:00.797010176+00:00        1639458000             797010095   \n",
       "1 2021-12-14 05:00:00.830345472+00:00        1639458000             830345445   \n",
       "2 2021-12-14 05:00:00.863578368+00:00        1639458000             863578483   \n",
       "3 2021-12-14 05:00:00.897224960+00:00        1639458000             897224938   \n",
       "4 2021-12-14 05:00:00.963078912+00:00        1639458000             963078957   \n",
       "\n",
       "  header.frame_id  height  width      encoding  is_bigendian  step  \\\n",
       "0     FDS20110009    1536   2048  bayer_rggb16         False  4096   \n",
       "1     FDS20110009    1536   2048  bayer_rggb16         False  4096   \n",
       "2     FDS20110009    1536   2048  bayer_rggb16         False  4096   \n",
       "3     FDS20110009    1536   2048  bayer_rggb16         False  4096   \n",
       "4     FDS20110009    1536   2048  bayer_rggb16         False  4096   \n",
       "\n",
       "                                  image_oid  \n",
       "0  3631623832346430326638313638616646445332  \n",
       "1  3631623832346430333137653130653546445332  \n",
       "2  3631623832346430333337393239373346445332  \n",
       "3  3631623832346430333537613930656146445332  \n",
       "4  3631623832346430333936373662326446445332  "
      ]
     },
     "execution_count": 11,
     "metadata": {},
     "output_type": "execute_result"
    }
   ],
   "source": [
    "left_image_table =left_image_table.flatten().flatten()\n",
    "left_image_df=left_image_table.to_pandas()\n",
    "# left_image_df=left_image_df.sort_values(by=['timestamp'])\n",
    "left_image_df.head()"
   ]
  },
  {
   "cell_type": "code",
   "execution_count": 12,
   "metadata": {},
   "outputs": [],
   "source": [
    "left_timestamps = left_image_df['timestamp']"
   ]
  },
  {
   "cell_type": "code",
   "execution_count": 13,
   "metadata": {},
   "outputs": [],
   "source": [
    "left_delta_df=pd.DataFrame(data=[(left_timestamps.iloc[i]-left_timestamps.iloc[i-1])/datetime.timedelta(milliseconds=1) for i in range(1,len(left_timestamps))],columns=['dt'])"
   ]
  },
  {
   "cell_type": "code",
   "execution_count": 14,
   "metadata": {},
   "outputs": [
    {
     "data": {
      "text/html": [
       "<div>\n",
       "<style scoped>\n",
       "    .dataframe tbody tr th:only-of-type {\n",
       "        vertical-align: middle;\n",
       "    }\n",
       "\n",
       "    .dataframe tbody tr th {\n",
       "        vertical-align: top;\n",
       "    }\n",
       "\n",
       "    .dataframe thead th {\n",
       "        text-align: right;\n",
       "    }\n",
       "</style>\n",
       "<table border=\"1\" class=\"dataframe\">\n",
       "  <thead>\n",
       "    <tr style=\"text-align: right;\">\n",
       "      <th></th>\n",
       "      <th>dt</th>\n",
       "    </tr>\n",
       "  </thead>\n",
       "  <tbody>\n",
       "    <tr>\n",
       "      <th>0</th>\n",
       "      <td>33.335296</td>\n",
       "    </tr>\n",
       "    <tr>\n",
       "      <th>1</th>\n",
       "      <td>33.232896</td>\n",
       "    </tr>\n",
       "    <tr>\n",
       "      <th>2</th>\n",
       "      <td>33.646592</td>\n",
       "    </tr>\n",
       "    <tr>\n",
       "      <th>3</th>\n",
       "      <td>65.853952</td>\n",
       "    </tr>\n",
       "    <tr>\n",
       "      <th>4</th>\n",
       "      <td>33.891072</td>\n",
       "    </tr>\n",
       "    <tr>\n",
       "      <th>...</th>\n",
       "      <td>...</td>\n",
       "    </tr>\n",
       "    <tr>\n",
       "      <th>3826</th>\n",
       "      <td>33.333248</td>\n",
       "    </tr>\n",
       "    <tr>\n",
       "      <th>3827</th>\n",
       "      <td>33.485568</td>\n",
       "    </tr>\n",
       "    <tr>\n",
       "      <th>3828</th>\n",
       "      <td>33.319424</td>\n",
       "    </tr>\n",
       "    <tr>\n",
       "      <th>3829</th>\n",
       "      <td>66.498816</td>\n",
       "    </tr>\n",
       "    <tr>\n",
       "      <th>3830</th>\n",
       "      <td>34.494720</td>\n",
       "    </tr>\n",
       "  </tbody>\n",
       "</table>\n",
       "<p>3831 rows × 1 columns</p>\n",
       "</div>"
      ],
      "text/plain": [
       "             dt\n",
       "0     33.335296\n",
       "1     33.232896\n",
       "2     33.646592\n",
       "3     65.853952\n",
       "4     33.891072\n",
       "...         ...\n",
       "3826  33.333248\n",
       "3827  33.485568\n",
       "3828  33.319424\n",
       "3829  66.498816\n",
       "3830  34.494720\n",
       "\n",
       "[3831 rows x 1 columns]"
      ]
     },
     "execution_count": 14,
     "metadata": {},
     "output_type": "execute_result"
    }
   ],
   "source": [
    "# left_delta_df=left_delta_df[left_delta_df.dt < 100.0]\n",
    "left_delta_df"
   ]
  },
  {
   "cell_type": "code",
   "execution_count": 15,
   "metadata": {},
   "outputs": [
    {
     "data": {
      "text/plain": [
       "<AxesSubplot:ylabel='Frequency'>"
      ]
     },
     "execution_count": 15,
     "metadata": {},
     "output_type": "execute_result"
    },
    {
     "data": {
      "image/png": "[encoded data removed]",
      "text/plain": [
       "<Figure size 432x288 with 1 Axes>"
      ]
     },
     "metadata": {
      "needs_background": "light"
     },
     "output_type": "display_data"
    }
   ],
   "source": [
    "df=left_delta_df\n",
    "df=df[np.abs(df.dt-df.dt.mean()) <= (3*df.dt.std())]\n",
    "df.plot.hist(bins=10)"
   ]
  },
  {
   "cell_type": "code",
   "execution_count": 16,
   "metadata": {},
   "outputs": [
    {
     "data": {
      "text/plain": [
       "timestamp: timestamp[ns, tz=UTC] not null\n",
       "header: struct<stamp: struct<sec: int32, nanosec: uint32>, frame_id: string>\n",
       "  child 0, stamp: struct<sec: int32, nanosec: uint32>\n",
       "      child 0, sec: int32\n",
       "      child 1, nanosec: uint32\n",
       "  child 1, frame_id: string\n",
       "height: uint32\n",
       "width: uint32\n",
       "encoding: string\n",
       "is_bigendian: bool\n",
       "step: uint32\n",
       "image_oid: string"
      ]
     },
     "execution_count": 16,
     "metadata": {},
     "output_type": "execute_result"
    }
   ],
   "source": [
    "right_image_table = pq.read_table(right_image_file)\n",
    "right_image_table.schema"
   ]
  },
  {
   "cell_type": "code",
   "execution_count": 17,
   "metadata": {},
   "outputs": [
    {
     "data": {
      "text/html": [
       "<div>\n",
       "<style scoped>\n",
       "    .dataframe tbody tr th:only-of-type {\n",
       "        vertical-align: middle;\n",
       "    }\n",
       "\n",
       "    .dataframe tbody tr th {\n",
       "        vertical-align: top;\n",
       "    }\n",
       "\n",
       "    .dataframe thead th {\n",
       "        text-align: right;\n",
       "    }\n",
       "</style>\n",
       "<table border=\"1\" class=\"dataframe\">\n",
       "  <thead>\n",
       "    <tr style=\"text-align: right;\">\n",
       "      <th></th>\n",
       "      <th>timestamp</th>\n",
       "      <th>header.stamp.sec</th>\n",
       "      <th>header.stamp.nanosec</th>\n",
       "      <th>header.frame_id</th>\n",
       "      <th>height</th>\n",
       "      <th>width</th>\n",
       "      <th>encoding</th>\n",
       "      <th>is_bigendian</th>\n",
       "      <th>step</th>\n",
       "      <th>image_oid</th>\n",
       "    </tr>\n",
       "  </thead>\n",
       "  <tbody>\n",
       "    <tr>\n",
       "      <th>0</th>\n",
       "      <td>2021-12-14 05:00:00.697237760+00:00</td>\n",
       "      <td>1639458000</td>\n",
       "      <td>697237727</td>\n",
       "      <td>FDS20110008</td>\n",
       "      <td>1536</td>\n",
       "      <td>2048</td>\n",
       "      <td>bayer_rggb16</td>\n",
       "      <td>False</td>\n",
       "      <td>4096</td>\n",
       "      <td>3631623832346430323938663030646646445332</td>\n",
       "    </tr>\n",
       "    <tr>\n",
       "      <th>1</th>\n",
       "      <td>2021-12-14 05:00:00.798107136+00:00</td>\n",
       "      <td>1639458000</td>\n",
       "      <td>798107178</td>\n",
       "      <td>FDS20110008</td>\n",
       "      <td>1536</td>\n",
       "      <td>2048</td>\n",
       "      <td>bayer_rggb16</td>\n",
       "      <td>False</td>\n",
       "      <td>4096</td>\n",
       "      <td>3631623832346430326639323236326146445332</td>\n",
       "    </tr>\n",
       "    <tr>\n",
       "      <th>2</th>\n",
       "      <td>2021-12-14 05:00:00.864854016+00:00</td>\n",
       "      <td>1639458000</td>\n",
       "      <td>864854016</td>\n",
       "      <td>FDS20110008</td>\n",
       "      <td>1536</td>\n",
       "      <td>2048</td>\n",
       "      <td>bayer_rggb16</td>\n",
       "      <td>False</td>\n",
       "      <td>4096</td>\n",
       "      <td>3631623832346430333338636130303046445332</td>\n",
       "    </tr>\n",
       "    <tr>\n",
       "      <th>3</th>\n",
       "      <td>2021-12-14 05:00:00.897224960+00:00</td>\n",
       "      <td>1639458000</td>\n",
       "      <td>897224939</td>\n",
       "      <td>FDS20110008</td>\n",
       "      <td>1536</td>\n",
       "      <td>2048</td>\n",
       "      <td>bayer_rggb16</td>\n",
       "      <td>False</td>\n",
       "      <td>4096</td>\n",
       "      <td>3631623832346430333537613930656246445332</td>\n",
       "    </tr>\n",
       "    <tr>\n",
       "      <th>4</th>\n",
       "      <td>2021-12-14 05:00:01.031121664+00:00</td>\n",
       "      <td>1639458001</td>\n",
       "      <td>31121666</td>\n",
       "      <td>FDS20110008</td>\n",
       "      <td>1536</td>\n",
       "      <td>2048</td>\n",
       "      <td>bayer_rggb16</td>\n",
       "      <td>False</td>\n",
       "      <td>4096</td>\n",
       "      <td>3631623832346431316461653130324644533230</td>\n",
       "    </tr>\n",
       "  </tbody>\n",
       "</table>\n",
       "</div>"
      ],
      "text/plain": [
       "                            timestamp  header.stamp.sec  header.stamp.nanosec  \\\n",
       "0 2021-12-14 05:00:00.697237760+00:00        1639458000             697237727   \n",
       "1 2021-12-14 05:00:00.798107136+00:00        1639458000             798107178   \n",
       "2 2021-12-14 05:00:00.864854016+00:00        1639458000             864854016   \n",
       "3 2021-12-14 05:00:00.897224960+00:00        1639458000             897224939   \n",
       "4 2021-12-14 05:00:01.031121664+00:00        1639458001              31121666   \n",
       "\n",
       "  header.frame_id  height  width      encoding  is_bigendian  step  \\\n",
       "0     FDS20110008    1536   2048  bayer_rggb16         False  4096   \n",
       "1     FDS20110008    1536   2048  bayer_rggb16         False  4096   \n",
       "2     FDS20110008    1536   2048  bayer_rggb16         False  4096   \n",
       "3     FDS20110008    1536   2048  bayer_rggb16         False  4096   \n",
       "4     FDS20110008    1536   2048  bayer_rggb16         False  4096   \n",
       "\n",
       "                                  image_oid  \n",
       "0  3631623832346430323938663030646646445332  \n",
       "1  3631623832346430326639323236326146445332  \n",
       "2  3631623832346430333338636130303046445332  \n",
       "3  3631623832346430333537613930656246445332  \n",
       "4  3631623832346431316461653130324644533230  "
      ]
     },
     "execution_count": 17,
     "metadata": {},
     "output_type": "execute_result"
    }
   ],
   "source": [
    "right_image_table=right_image_table.flatten().flatten()\n",
    "right_image_df=right_image_table.to_pandas()\n",
    "# right_image_df=right_image_df.sort_values(by=['timestamp'])\n",
    "right_image_df.head()"
   ]
  },
  {
   "cell_type": "code",
   "execution_count": 18,
   "metadata": {},
   "outputs": [],
   "source": [
    "right_timestamps = right_image_df['timestamp']"
   ]
  },
  {
   "cell_type": "code",
   "execution_count": 19,
   "metadata": {},
   "outputs": [],
   "source": [
    "right_delta_df=pd.DataFrame(data=[(right_timestamps.iloc[i]-right_timestamps.iloc[i-1])/datetime.timedelta(milliseconds=1) for i in range(1,len(right_timestamps))],columns=['dt'])"
   ]
  },
  {
   "cell_type": "code",
   "execution_count": 20,
   "metadata": {},
   "outputs": [
    {
     "data": {
      "text/html": [
       "<div>\n",
       "<style scoped>\n",
       "    .dataframe tbody tr th:only-of-type {\n",
       "        vertical-align: middle;\n",
       "    }\n",
       "\n",
       "    .dataframe tbody tr th {\n",
       "        vertical-align: top;\n",
       "    }\n",
       "\n",
       "    .dataframe thead th {\n",
       "        text-align: right;\n",
       "    }\n",
       "</style>\n",
       "<table border=\"1\" class=\"dataframe\">\n",
       "  <thead>\n",
       "    <tr style=\"text-align: right;\">\n",
       "      <th></th>\n",
       "      <th>dt</th>\n",
       "    </tr>\n",
       "  </thead>\n",
       "  <tbody>\n",
       "    <tr>\n",
       "      <th>0</th>\n",
       "      <td>100.869376</td>\n",
       "    </tr>\n",
       "    <tr>\n",
       "      <th>1</th>\n",
       "      <td>66.746880</td>\n",
       "    </tr>\n",
       "    <tr>\n",
       "      <th>2</th>\n",
       "      <td>32.370944</td>\n",
       "    </tr>\n",
       "    <tr>\n",
       "      <th>3</th>\n",
       "      <td>133.896704</td>\n",
       "    </tr>\n",
       "    <tr>\n",
       "      <th>4</th>\n",
       "      <td>33.168128</td>\n",
       "    </tr>\n",
       "    <tr>\n",
       "      <th>...</th>\n",
       "      <td>...</td>\n",
       "    </tr>\n",
       "    <tr>\n",
       "      <th>3839</th>\n",
       "      <td>133.410560</td>\n",
       "    </tr>\n",
       "    <tr>\n",
       "      <th>3840</th>\n",
       "      <td>34.149376</td>\n",
       "    </tr>\n",
       "    <tr>\n",
       "      <th>3841</th>\n",
       "      <td>32.647936</td>\n",
       "    </tr>\n",
       "    <tr>\n",
       "      <th>3842</th>\n",
       "      <td>33.124352</td>\n",
       "    </tr>\n",
       "    <tr>\n",
       "      <th>3843</th>\n",
       "      <td>33.883904</td>\n",
       "    </tr>\n",
       "  </tbody>\n",
       "</table>\n",
       "<p>3844 rows × 1 columns</p>\n",
       "</div>"
      ],
      "text/plain": [
       "              dt\n",
       "0     100.869376\n",
       "1      66.746880\n",
       "2      32.370944\n",
       "3     133.896704\n",
       "4      33.168128\n",
       "...          ...\n",
       "3839  133.410560\n",
       "3840   34.149376\n",
       "3841   32.647936\n",
       "3842   33.124352\n",
       "3843   33.883904\n",
       "\n",
       "[3844 rows x 1 columns]"
      ]
     },
     "execution_count": 20,
     "metadata": {},
     "output_type": "execute_result"
    }
   ],
   "source": [
    "# right_delta_df=right_delta_df[right_delta_df.dt < 100.0]\n",
    "right_delta_df"
   ]
  },
  {
   "cell_type": "code",
   "execution_count": 22,
   "metadata": {},
   "outputs": [
    {
     "data": {
      "text/plain": [
       "<AxesSubplot:ylabel='Frequency'>"
      ]
     },
     "execution_count": 22,
     "metadata": {},
     "output_type": "execute_result"
    },
    {
     "data": {
      "image/png": "[encoded data removed]",
      "text/plain": [
       "<Figure size 432x288 with 1 Axes>"
      ]
     },
     "metadata": {
      "needs_background": "light"
     },
     "output_type": "display_data"
    }
   ],
   "source": [
    "df=right_delta_df\n",
    "df=df[np.abs(df.dt-df.dt.mean()) <= (3*df.dt.std())]\n",
    "df.plot.hist(bins=10)"
   ]
  }
 ],
 "metadata": {
  "interpreter": {
   "hash": "916dbcbb3f70747c44a77c7bcd40155683ae19c65e1c03b4aa3499c5328201f1"
  },
  "kernelspec": {
   "display_name": "Python 3 (ipykernel)",
   "language": "python",
   "name": "python3"
  },
  "language_info": {
   "codemirror_mode": {
    "name": "ipython",
    "version": 3
   },
   "file_extension": ".py",
   "mimetype": "text/x-python",
   "name": "python",
   "nbconvert_exporter": "python",
   "pygments_lexer": "ipython3",
   "version": "3.8.13"
  }
 },
 "nbformat": 4,
 "nbformat_minor": 4
}
